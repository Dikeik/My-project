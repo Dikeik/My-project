{
 "cells": [
  {
   "cell_type": "markdown",
   "id": "7c94365f-6adb-4cf3-a11b-3bff2a7bbc21",
   "metadata": {},
   "source": [
    "# Data Science Tools and Ecosystem"
   ]
  },
  {
   "cell_type": "markdown",
   "id": "b85e03fe-e381-4bb8-b4f3-4377bcb72511",
   "metadata": {},
   "source": [
    "### In this Notebook, Data Science Tools and Ecosystem are Summarized."
   ]
  },
  {
   "cell_type": "markdown",
   "id": "459e34b8-b12e-44c3-b9a0-4df45196383b",
   "metadata": {},
   "source": [
    "**Objectives:**\n",
    "* Python\n",
    "* Java\n",
    "* R\n",
    "* C++"
   ]
  },
  {
   "cell_type": "markdown",
   "id": "0a6eadf4-c1c1-4ada-8657-587eb82f2ffd",
   "metadata": {},
   "source": [
    "**Some of the popular languages that Data Scientists use are:**\n",
    "1. Python\n",
    "2. Java\n",
    "3. R\n",
    "4. C++"
   ]
  },
  {
   "cell_type": "markdown",
   "id": "b2fc118a-5826-4c47-bf2e-de09481d7024",
   "metadata": {},
   "source": [
    "**Some of the commonly used libraries used by Data Scientists include:**\n",
    "1. TensorFlow\n",
    "2. NumPy\n",
    "3. Matplotlib\n",
    "4. Pandas"
   ]
  },
  {
   "cell_type": "markdown",
   "id": "740241f7-fc80-4ddd-94e8-f83402dca9a7",
   "metadata": {},
   "source": [
    "|Data Science Tools|\n",
    "|----|\n",
    "| Python |\n",
    "| R |\n",
    "| Java |\n",
    "|C++|"
   ]
  },
  {
   "cell_type": "markdown",
   "id": "dac7f5c6-3f8b-434e-9c21-e749e134f1fa",
   "metadata": {},
   "source": [
    "### Below are a few examples of evaluating arithmetic expressions in Python"
   ]
  },
  {
   "cell_type": "markdown",
   "id": "b71ecf6b-4cd1-489f-b7cf-fdac23be9eef",
   "metadata": {},
   "source": [
    "This a simple arithmetic expression to mutiply then add integers:"
   ]
  },
  {
   "cell_type": "code",
   "execution_count": 22,
   "id": "5a9755e3-6d9e-4d64-90bb-ac188e02022c",
   "metadata": {},
   "outputs": [
    {
     "data": {
      "text/plain": [
       "17"
      ]
     },
     "execution_count": 22,
     "metadata": {},
     "output_type": "execute_result"
    }
   ],
   "source": [
    "(3*4)+5"
   ]
  },
  {
   "cell_type": "markdown",
   "id": "8ee296c0-c239-4555-8f24-8c9361d2453b",
   "metadata": {},
   "source": [
    " This will convert 200 minutes to hours by diving by 60"
   ]
  },
  {
   "cell_type": "code",
   "execution_count": 25,
   "id": "f100fa6b-3c7e-4130-beba-a572cb8ce256",
   "metadata": {},
   "outputs": [
    {
     "data": {
      "text/plain": [
       "3.3333333333333335"
      ]
     },
     "execution_count": 25,
     "metadata": {},
     "output_type": "execute_result"
    }
   ],
   "source": [
    "200/60"
   ]
  },
  {
   "cell_type": "markdown",
   "id": "0d38083b-51e9-4942-855c-d956081aad37",
   "metadata": {},
   "source": [
    "## Author\n",
    "Anwadike Ikechukwu"
   ]
  }
 ],
 "metadata": {
  "kernelspec": {
   "display_name": "Python 3 (ipykernel)",
   "language": "python",
   "name": "python3"
  },
  "language_info": {
   "codemirror_mode": {
    "name": "ipython",
    "version": 3
   },
   "file_extension": ".py",
   "mimetype": "text/x-python",
   "name": "python",
   "nbconvert_exporter": "python",
   "pygments_lexer": "ipython3",
   "version": "3.11.9"
  }
 },
 "nbformat": 4,
 "nbformat_minor": 5
}
